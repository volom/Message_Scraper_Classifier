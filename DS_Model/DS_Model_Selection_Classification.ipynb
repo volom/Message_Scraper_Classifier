{
 "cells": [
  {
   "cell_type": "markdown",
   "metadata": {
    "id": "_1JbHmgEjtWS"
   },
   "source": [
    "#Getting ready to estimation!"
   ]
  },
  {
   "cell_type": "markdown",
   "metadata": {
    "id": "qD1tW8hoirQw"
   },
   "source": [
    "It's used **sklearn version 1.0** in this script. The version of the library defines models and their hyperparameters to estimate. But you can use any version, just put suitable models and parameters or update your sklearn with below command"
   ]
  },
  {
   "cell_type": "code",
   "execution_count": 1,
   "metadata": {
    "colab": {
     "base_uri": "https://localhost:8080/"
    },
    "id": "sWUSAzwrAS0Z",
    "outputId": "5ea95eac-ea07-4d01-ee80-91ed8e718c0f"
   },
   "outputs": [
    {
     "name": "stdout",
     "output_type": "stream",
     "text": [
      "Requirement already satisfied: scikit-learn in /usr/local/lib/python3.7/dist-packages (1.0)\n",
      "Requirement already satisfied: threadpoolctl>=2.0.0 in /usr/local/lib/python3.7/dist-packages (from scikit-learn) (3.0.0)\n",
      "Requirement already satisfied: scipy>=1.1.0 in /usr/local/lib/python3.7/dist-packages (from scikit-learn) (1.4.1)\n",
      "Requirement already satisfied: joblib>=0.11 in /usr/local/lib/python3.7/dist-packages (from scikit-learn) (1.0.1)\n",
      "Requirement already satisfied: numpy>=1.14.6 in /usr/local/lib/python3.7/dist-packages (from scikit-learn) (1.19.5)\n"
     ]
    }
   ],
   "source": [
    "!pip install -U scikit-learn"
   ]
  },
  {
   "cell_type": "markdown",
   "metadata": {
    "id": "P7bTeZBSjpdm"
   },
   "source": [
    "# Importing dependencies"
   ]
  },
  {
   "cell_type": "code",
   "execution_count": 1,
   "metadata": {
    "ExecuteTime": {
     "end_time": "2022-03-17T08:40:06.879121Z",
     "start_time": "2022-03-17T08:40:06.852514Z"
    },
    "id": "F9FvpYwgAGHG"
   },
   "outputs": [],
   "source": [
    "import itertools\n",
    "import numpy as np\n",
    "import pandas as pd\n",
    "from tqdm import tqdm\n",
    "import time\n",
    "\n",
    "from sklearn.metrics import accuracy_score\n",
    "from sklearn.preprocessing import StandardScaler\n",
    "from sklearn.tree import DecisionTreeClassifier\n",
    "from sklearn.neighbors import KNeighborsClassifier\n",
    "from sklearn.svm import SVC\n",
    "from sklearn.linear_model import LogisticRegression\n",
    "from sklearn.naive_bayes import GaussianNB\n",
    "from sklearn.ensemble import RandomForestClassifier\n",
    "from sklearn.feature_extraction.text import TfidfVectorizer\n",
    "# from sklearn.model_selection import GridSearchCV\n",
    "\n",
    "import warnings\n",
    "warnings.filterwarnings('ignore')"
   ]
  },
  {
   "cell_type": "markdown",
   "metadata": {
    "id": "cfx2o5fNj7tY"
   },
   "source": [
    "# Handle with input data"
   ]
  },
  {
   "cell_type": "markdown",
   "metadata": {
    "id": "Etfb1161iX2N"
   },
   "source": [
    "Choose models and parameters. Put it into model list"
   ]
  },
  {
   "cell_type": "code",
   "execution_count": 3,
   "metadata": {
    "ExecuteTime": {
     "end_time": "2022-03-17T08:38:50.575926Z",
     "start_time": "2022-03-17T08:38:50.561580Z"
    },
    "id": "2Ioi1OMSVFdX"
   },
   "outputs": [],
   "source": [
    "params_dt = {'criterion' : ['gini', 'entropy'],\n",
    "             'splitter': ['best', 'random'],\n",
    "             'max_depth': [None, 2, 3, 5, 7, 9],\n",
    "             'max_features':[None, 'auto', 'sqrt', 'log2']}\n",
    "\n",
    "params_knn = {'n_neighbors': [3, 4, 5, 7],\n",
    "              'algorithm': ['auto', 'ball_tree', 'kd_tree', 'brute']}\n",
    "\n",
    "params_svc = {'kernel':['linear', 'poly', 'rbf', 'sigmoid', 'precomputed'],\n",
    "              'degree':[2, 3, 4, 5, 6],\n",
    "              'gamma':['scale', 'auto']}\n",
    "\n",
    "params_lr = {'penalty' : ['l1', 'l2', 'elasticnet', 'none'],\n",
    "             'fit_intercept': [True, False],\n",
    "             'solver': ['newton-cg', 'lbfgs', 'liblinear', 'sag', 'saga']}\n",
    "\n",
    "params_gnb = {'var_smoothing':[1e-9, 1e-8, 1e-7]}\n",
    "\n",
    "params_rc = {'n_estimators': [100, 150, 200, 250],\n",
    "             'criterion': ['gini', 'entropy'],\n",
    "             'max_depth': [None, 5, 7, 9],\n",
    "             'max_features': ['auto', 'sqrt', 'log2']}"
   ]
  },
  {
   "cell_type": "code",
   "execution_count": 4,
   "metadata": {
    "ExecuteTime": {
     "end_time": "2022-03-17T08:38:53.210236Z",
     "start_time": "2022-03-17T08:38:53.205468Z"
    },
    "id": "UIdXXaLpSeZB"
   },
   "outputs": [],
   "source": [
    "# models = [(DecisionTreeClassifier, params_dt), (KNeighborsClassifier, params_knn), \n",
    "#           (SVC, params_svc), (LogisticRegression, params_lr), \n",
    "#           (GaussianNB, params_gnb), (RandomForestClassifier, params_rc)]\n",
    "models = [(DecisionTreeClassifier, params_dt), (KNeighborsClassifier, params_knn), \n",
    "          (LogisticRegression, params_lr), \n",
    "          (GaussianNB, params_gnb), (RandomForestClassifier, params_rc)]          "
   ]
  },
  {
   "cell_type": "code",
   "execution_count": 6,
   "metadata": {
    "ExecuteTime": {
     "end_time": "2022-03-17T09:07:57.641262Z",
     "start_time": "2022-03-17T09:07:57.560854Z"
    },
    "colab": {
     "base_uri": "https://localhost:8080/",
     "height": 235
    },
    "id": "TPXAjPTEIlFx",
    "outputId": "a85b2660-8ee4-4d97-e8e9-dad1972ed2c4"
   },
   "outputs": [],
   "source": [
    "dataset = pd.read_csv(\"messages_group_db.csv\", sep=\"\\t\")"
   ]
  },
  {
   "cell_type": "code",
   "execution_count": 7,
   "metadata": {
    "ExecuteTime": {
     "end_time": "2022-03-17T09:09:14.670405Z",
     "start_time": "2022-03-17T09:09:14.649385Z"
    }
   },
   "outputs": [],
   "source": [
    "# Ensure label balance\n",
    "dataset.sort_values(by='label', ascending=True, inplace=True)\n",
    "dataset.reset_index(inplace=True, drop=True)\n",
    "dataset = dataset.iloc[len(dataset['label'])-dataset[dataset['label']==1].count().values[0]*2:,:]"
   ]
  },
  {
   "cell_type": "code",
   "execution_count": 8,
   "metadata": {
    "ExecuteTime": {
     "end_time": "2022-03-17T09:09:39.014778Z",
     "start_time": "2022-03-17T09:09:38.838115Z"
    },
    "id": "7pb2Dv3QJOjt"
   },
   "outputs": [],
   "source": [
    "X = dataset['message']\n",
    "tfidf = TfidfVectorizer(max_features=10000, ngram_range=(1,2))\n",
    "X = tfidf.fit_transform(X)\n",
    "y = dataset['label']"
   ]
  },
  {
   "cell_type": "code",
   "execution_count": 9,
   "metadata": {
    "ExecuteTime": {
     "end_time": "2022-03-17T09:09:40.820910Z",
     "start_time": "2022-03-17T09:09:40.805159Z"
    },
    "id": "s5ra-FdTJSpb"
   },
   "outputs": [],
   "source": [
    "from sklearn.model_selection import train_test_split\n",
    "X_train, X_test, y_train, y_test = train_test_split(X, y, test_size = 0.2, random_state = 0)"
   ]
  },
  {
   "cell_type": "markdown",
   "metadata": {
    "id": "owjAbmxZkHjq"
   },
   "source": [
    "# Main function"
   ]
  },
  {
   "cell_type": "code",
   "execution_count": 10,
   "metadata": {
    "ExecuteTime": {
     "end_time": "2022-03-17T09:09:42.345483Z",
     "start_time": "2022-03-17T09:09:42.326458Z"
    },
    "id": "lRrDu54NAOrU"
   },
   "outputs": [],
   "source": [
    "def params_model_selection(model, parameters) -> pd.DataFrame:\n",
    "    \"\"\"\n",
    "    Function to run DS model with different hyperparameters in order to \n",
    "    estimate it and choose the one with the highest accuracy\n",
    "    \"\"\"\n",
    "    def combination_params(*params):\n",
    "        return itertools.product(*params)\n",
    "    accs = []\n",
    "    params_final = []\n",
    "    params_values = list(combination_params(*list(parameters.values())))\n",
    "    print(f\"Estimation parameters of {model.__name__} model\")\n",
    "\n",
    "    for c in tqdm(params_values, position=0, leave=False):\n",
    "        # print(c)\n",
    "        try:\n",
    "            params = dict(zip(tuple(parameters.keys()), c))\n",
    "            classifier = model(**params)\n",
    "\n",
    "\n",
    "            classifier.fit(X_train, y_train)\n",
    "\n",
    "            y_pred = classifier.predict(X_test)\n",
    "\n",
    "            accs.append(accuracy_score(y_test, y_pred))\n",
    "            params_final.append(params)\n",
    "            # print(f' Params {params_values.index(c)+1}/{len(params_values)} of {model.__name__} model is estimated')\n",
    "        except ValueError:\n",
    "            pass\n",
    "        \n",
    "    print(f'Estimation {model.__name__} model done!')\n",
    "    df_res = pd.DataFrame({'Model':model.__name__, 'Accuracy': accs, 'params_final': params_final})\n",
    "    max_acc = df_res['Accuracy'].max()\n",
    "    print(f\"Max value of accuracy is {max_acc}\")\n",
    "    return df_res\n"
   ]
  },
  {
   "cell_type": "markdown",
   "metadata": {
    "id": "_TZws-oZkLH0"
   },
   "source": [
    "# Create result in table"
   ]
  },
  {
   "cell_type": "code",
   "execution_count": 11,
   "metadata": {
    "ExecuteTime": {
     "end_time": "2022-03-17T09:09:44.647406Z",
     "start_time": "2022-03-17T09:09:44.639897Z"
    },
    "id": "P94TJ8YIdH9J"
   },
   "outputs": [],
   "source": [
    "df_result = pd.DataFrame(columns=['Model', 'Accuracy', 'params_final'])"
   ]
  },
  {
   "cell_type": "code",
   "execution_count": 12,
   "metadata": {
    "ExecuteTime": {
     "end_time": "2022-03-17T09:10:34.846894Z",
     "start_time": "2022-03-17T09:09:46.336819Z"
    },
    "colab": {
     "base_uri": "https://localhost:8080/"
    },
    "id": "mvDXtEjFdT5R",
    "outputId": "a42d5181-9eee-4fe7-8b23-8db7e01f82eb"
   },
   "outputs": [
    {
     "name": "stderr",
     "output_type": "stream",
     "text": [
      "  3%|▎         | 3/96 [00:00<00:03, 29.81it/s]"
     ]
    },
    {
     "name": "stdout",
     "output_type": "stream",
     "text": [
      "Estimation parameters of DecisionTreeClassifier model\n"
     ]
    },
    {
     "name": "stderr",
     "output_type": "stream",
     "text": [
      "  0%|          | 0/40 [00:00<?, ?it/s]          "
     ]
    },
    {
     "name": "stdout",
     "output_type": "stream",
     "text": [
      "Estimation DecisionTreeClassifier model done!\n",
      "Max value of accuracy is 0.7414965986394558\n",
      "\n",
      "-----------------------\n",
      "Estimation parameters of KNeighborsClassifier model\n",
      "Estimation KNeighborsClassifier model done!\n",
      "Max value of accuracy is 0.4965986394557823\n",
      "\n",
      "-----------------------\n",
      "Estimation parameters of LogisticRegression model\n"
     ]
    },
    {
     "name": "stderr",
     "output_type": "stream",
     "text": [
      "  0%|          | 0/96 [00:00<?, ?it/s]         "
     ]
    },
    {
     "name": "stdout",
     "output_type": "stream",
     "text": [
      "Estimation LogisticRegression model done!\n",
      "Max value of accuracy is 0.7959183673469388\n",
      "\n",
      "-----------------------\n",
      "Estimation parameters of GaussianNB model\n",
      "Estimation parameters of RandomForestClassifier model\n"
     ]
    },
    {
     "name": "stderr",
     "output_type": "stream",
     "text": [
      "                                               "
     ]
    },
    {
     "name": "stdout",
     "output_type": "stream",
     "text": [
      "Estimation RandomForestClassifier model done!\n",
      "Max value of accuracy is 0.7959183673469388\n",
      "\n",
      "-----------------------\n"
     ]
    },
    {
     "name": "stderr",
     "output_type": "stream",
     "text": [
      "\r"
     ]
    }
   ],
   "source": [
    "for model in models:\n",
    "    try:\n",
    "        df_result = pd.concat([df_result, params_model_selection(model[0], model[1])])\n",
    "        print('\\n-----------------------')\n",
    "    except:\n",
    "        pass"
   ]
  },
  {
   "cell_type": "code",
   "execution_count": 13,
   "metadata": {
    "ExecuteTime": {
     "end_time": "2022-03-17T09:10:38.498020Z",
     "start_time": "2022-03-17T09:10:38.473967Z"
    },
    "colab": {
     "base_uri": "https://localhost:8080/",
     "height": 414
    },
    "id": "nCo6EA9uWpsE",
    "outputId": "9588bcb1-ecf8-4008-e0b1-1d3cb9196499"
   },
   "outputs": [
    {
     "data": {
      "text/html": [
       "<div>\n",
       "<style scoped>\n",
       "    .dataframe tbody tr th:only-of-type {\n",
       "        vertical-align: middle;\n",
       "    }\n",
       "\n",
       "    .dataframe tbody tr th {\n",
       "        vertical-align: top;\n",
       "    }\n",
       "\n",
       "    .dataframe thead th {\n",
       "        text-align: right;\n",
       "    }\n",
       "</style>\n",
       "<table border=\"1\" class=\"dataframe\">\n",
       "  <thead>\n",
       "    <tr style=\"text-align: right;\">\n",
       "      <th></th>\n",
       "      <th>Model</th>\n",
       "      <th>Accuracy</th>\n",
       "      <th>params_final</th>\n",
       "    </tr>\n",
       "  </thead>\n",
       "  <tbody>\n",
       "    <tr>\n",
       "      <th>0</th>\n",
       "      <td>DecisionTreeClassifier</td>\n",
       "      <td>0.741497</td>\n",
       "      <td>{'criterion': 'gini', 'splitter': 'best', 'max...</td>\n",
       "    </tr>\n",
       "    <tr>\n",
       "      <th>1</th>\n",
       "      <td>DecisionTreeClassifier</td>\n",
       "      <td>0.673469</td>\n",
       "      <td>{'criterion': 'gini', 'splitter': 'best', 'max...</td>\n",
       "    </tr>\n",
       "    <tr>\n",
       "      <th>2</th>\n",
       "      <td>DecisionTreeClassifier</td>\n",
       "      <td>0.687075</td>\n",
       "      <td>{'criterion': 'gini', 'splitter': 'best', 'max...</td>\n",
       "    </tr>\n",
       "    <tr>\n",
       "      <th>3</th>\n",
       "      <td>DecisionTreeClassifier</td>\n",
       "      <td>0.673469</td>\n",
       "      <td>{'criterion': 'gini', 'splitter': 'best', 'max...</td>\n",
       "    </tr>\n",
       "    <tr>\n",
       "      <th>4</th>\n",
       "      <td>DecisionTreeClassifier</td>\n",
       "      <td>0.646259</td>\n",
       "      <td>{'criterion': 'gini', 'splitter': 'best', 'max...</td>\n",
       "    </tr>\n",
       "    <tr>\n",
       "      <th>...</th>\n",
       "      <td>...</td>\n",
       "      <td>...</td>\n",
       "      <td>...</td>\n",
       "    </tr>\n",
       "    <tr>\n",
       "      <th>91</th>\n",
       "      <td>RandomForestClassifier</td>\n",
       "      <td>0.755102</td>\n",
       "      <td>{'n_estimators': 250, 'criterion': 'entropy', ...</td>\n",
       "    </tr>\n",
       "    <tr>\n",
       "      <th>92</th>\n",
       "      <td>RandomForestClassifier</td>\n",
       "      <td>0.673469</td>\n",
       "      <td>{'n_estimators': 250, 'criterion': 'entropy', ...</td>\n",
       "    </tr>\n",
       "    <tr>\n",
       "      <th>93</th>\n",
       "      <td>RandomForestClassifier</td>\n",
       "      <td>0.775510</td>\n",
       "      <td>{'n_estimators': 250, 'criterion': 'entropy', ...</td>\n",
       "    </tr>\n",
       "    <tr>\n",
       "      <th>94</th>\n",
       "      <td>RandomForestClassifier</td>\n",
       "      <td>0.761905</td>\n",
       "      <td>{'n_estimators': 250, 'criterion': 'entropy', ...</td>\n",
       "    </tr>\n",
       "    <tr>\n",
       "      <th>95</th>\n",
       "      <td>RandomForestClassifier</td>\n",
       "      <td>0.612245</td>\n",
       "      <td>{'n_estimators': 250, 'criterion': 'entropy', ...</td>\n",
       "    </tr>\n",
       "  </tbody>\n",
       "</table>\n",
       "<p>230 rows × 3 columns</p>\n",
       "</div>"
      ],
      "text/plain": [
       "                     Model  Accuracy  \\\n",
       "0   DecisionTreeClassifier  0.741497   \n",
       "1   DecisionTreeClassifier  0.673469   \n",
       "2   DecisionTreeClassifier  0.687075   \n",
       "3   DecisionTreeClassifier  0.673469   \n",
       "4   DecisionTreeClassifier  0.646259   \n",
       "..                     ...       ...   \n",
       "91  RandomForestClassifier  0.755102   \n",
       "92  RandomForestClassifier  0.673469   \n",
       "93  RandomForestClassifier  0.775510   \n",
       "94  RandomForestClassifier  0.761905   \n",
       "95  RandomForestClassifier  0.612245   \n",
       "\n",
       "                                         params_final  \n",
       "0   {'criterion': 'gini', 'splitter': 'best', 'max...  \n",
       "1   {'criterion': 'gini', 'splitter': 'best', 'max...  \n",
       "2   {'criterion': 'gini', 'splitter': 'best', 'max...  \n",
       "3   {'criterion': 'gini', 'splitter': 'best', 'max...  \n",
       "4   {'criterion': 'gini', 'splitter': 'best', 'max...  \n",
       "..                                                ...  \n",
       "91  {'n_estimators': 250, 'criterion': 'entropy', ...  \n",
       "92  {'n_estimators': 250, 'criterion': 'entropy', ...  \n",
       "93  {'n_estimators': 250, 'criterion': 'entropy', ...  \n",
       "94  {'n_estimators': 250, 'criterion': 'entropy', ...  \n",
       "95  {'n_estimators': 250, 'criterion': 'entropy', ...  \n",
       "\n",
       "[230 rows x 3 columns]"
      ]
     },
     "execution_count": 13,
     "metadata": {},
     "output_type": "execute_result"
    }
   ],
   "source": [
    "df_result"
   ]
  },
  {
   "cell_type": "code",
   "execution_count": 14,
   "metadata": {
    "ExecuteTime": {
     "end_time": "2022-03-17T09:10:42.613375Z",
     "start_time": "2022-03-17T09:10:42.595877Z"
    },
    "colab": {
     "base_uri": "https://localhost:8080/",
     "height": 141
    },
    "id": "wv0zIL4Dgdts",
    "outputId": "660e5b1e-0f72-4b11-96a7-751c44561092"
   },
   "outputs": [
    {
     "data": {
      "text/html": [
       "<div>\n",
       "<style scoped>\n",
       "    .dataframe tbody tr th:only-of-type {\n",
       "        vertical-align: middle;\n",
       "    }\n",
       "\n",
       "    .dataframe tbody tr th {\n",
       "        vertical-align: top;\n",
       "    }\n",
       "\n",
       "    .dataframe thead th {\n",
       "        text-align: right;\n",
       "    }\n",
       "</style>\n",
       "<table border=\"1\" class=\"dataframe\">\n",
       "  <thead>\n",
       "    <tr style=\"text-align: right;\">\n",
       "      <th></th>\n",
       "      <th>Model</th>\n",
       "      <th>Accuracy</th>\n",
       "      <th>params_final</th>\n",
       "    </tr>\n",
       "  </thead>\n",
       "  <tbody>\n",
       "    <tr>\n",
       "      <th>17</th>\n",
       "      <td>LogisticRegression</td>\n",
       "      <td>0.795918</td>\n",
       "      <td>{'penalty': 'none', 'fit_intercept': True, 'so...</td>\n",
       "    </tr>\n",
       "    <tr>\n",
       "      <th>40</th>\n",
       "      <td>RandomForestClassifier</td>\n",
       "      <td>0.795918</td>\n",
       "      <td>{'n_estimators': 150, 'criterion': 'entropy', ...</td>\n",
       "    </tr>\n",
       "  </tbody>\n",
       "</table>\n",
       "</div>"
      ],
      "text/plain": [
       "                     Model  Accuracy  \\\n",
       "17      LogisticRegression  0.795918   \n",
       "40  RandomForestClassifier  0.795918   \n",
       "\n",
       "                                         params_final  \n",
       "17  {'penalty': 'none', 'fit_intercept': True, 'so...  \n",
       "40  {'n_estimators': 150, 'criterion': 'entropy', ...  "
      ]
     },
     "execution_count": 14,
     "metadata": {},
     "output_type": "execute_result"
    }
   ],
   "source": [
    "df_result[df_result['Accuracy']==df_result['Accuracy'].max()]"
   ]
  },
  {
   "cell_type": "code",
   "execution_count": 15,
   "metadata": {
    "ExecuteTime": {
     "end_time": "2022-03-17T09:10:45.972892Z",
     "start_time": "2022-03-17T09:10:45.964618Z"
    },
    "colab": {
     "base_uri": "https://localhost:8080/"
    },
    "id": "EySmaCkehexW",
    "outputId": "d75d7682-22d9-480e-ac62-62a3f669348b"
   },
   "outputs": [
    {
     "data": {
      "text/plain": [
       "[{'penalty': 'none', 'fit_intercept': True, 'solver': 'saga'},\n",
       " {'n_estimators': 150,\n",
       "  'criterion': 'entropy',\n",
       "  'max_depth': 5,\n",
       "  'max_features': 'sqrt'}]"
      ]
     },
     "execution_count": 15,
     "metadata": {},
     "output_type": "execute_result"
    }
   ],
   "source": [
    "list(df_result[df_result['Accuracy']==df_result['Accuracy'].max()]['params_final'])"
   ]
  }
 ],
 "metadata": {
  "colab": {
   "collapsed_sections": [],
   "name": "DS_Model_Selection_Classification.ipynb",
   "provenance": []
  },
  "kernelspec": {
   "display_name": "Python 3 (ipykernel)",
   "language": "python",
   "name": "python3"
  },
  "language_info": {
   "codemirror_mode": {
    "name": "ipython",
    "version": 3
   },
   "file_extension": ".py",
   "mimetype": "text/x-python",
   "name": "python",
   "nbconvert_exporter": "python",
   "pygments_lexer": "ipython3",
   "version": "3.8.5"
  },
  "toc": {
   "base_numbering": 1,
   "nav_menu": {},
   "number_sections": true,
   "sideBar": true,
   "skip_h1_title": false,
   "title_cell": "Table of Contents",
   "title_sidebar": "Contents",
   "toc_cell": false,
   "toc_position": {},
   "toc_section_display": true,
   "toc_window_display": false
  },
  "varInspector": {
   "cols": {
    "lenName": 16,
    "lenType": 16,
    "lenVar": 40
   },
   "kernels_config": {
    "python": {
     "delete_cmd_postfix": "",
     "delete_cmd_prefix": "del ",
     "library": "var_list.py",
     "varRefreshCmd": "print(var_dic_list())"
    },
    "r": {
     "delete_cmd_postfix": ") ",
     "delete_cmd_prefix": "rm(",
     "library": "var_list.r",
     "varRefreshCmd": "cat(var_dic_list()) "
    }
   },
   "types_to_exclude": [
    "module",
    "function",
    "builtin_function_or_method",
    "instance",
    "_Feature"
   ],
   "window_display": false
  }
 },
 "nbformat": 4,
 "nbformat_minor": 1
}
